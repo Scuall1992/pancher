{
 "cells": [
  {
   "cell_type": "code",
   "execution_count": 36,
   "metadata": {},
   "outputs": [
    {
     "name": "stdout",
     "output_type": "stream",
     "text": [
      "case 3\n",
      "8720.26 to pay: 6104.182\n",
      "case 1\n",
      "74.97 to pay: 52.479\n",
      "case 2\n",
      "2114.38 to pay: 1480.066\n",
      "case 4\n",
      "sub\n"
     ]
    }
   ],
   "source": [
    "import json\n",
    "import pandas as pd\n",
    "\n",
    "\n",
    "with open(\"config.json\", \"r\", encoding=\"utf-8\") as f:\n",
    "    c = json.loads(f.read())\n",
    "\n",
    "df_orig = pd.read_excel(c[\"filename\"], header=c[\"header_index\"])\n",
    "col_len = len(df_orig.columns)\n",
    "if  col_len > c[\"col_len\"]:\n",
    "    df_orig = df_orig.iloc[:, :c[\"col_len\"]-col_len]\n",
    "\n",
    "for case in c[\"cases\"]:\n",
    "    print(case[\"case_name\"])\n",
    "    df = df_orig.copy()\n",
    "\n",
    "    if \"sub_cases\" in case:\n",
    "        print(\"sub\")\n",
    "    else:\n",
    "        res = 0\n",
    "\n",
    "        dfs = []\n",
    "\n",
    "        for f in case[\"filters_OR\"]:\n",
    "            dfs.append(df[df[f[\"column\"]] == f[\"value\"]])\n",
    "\n",
    "        for index, row in pd.concat(dfs, ignore_index=True).iterrows():\n",
    "            res += (row.iloc[c[\"SUM_1\"]] + row.iloc[c[\"SUM_2\"]]) * row.iloc[c[\"PERCENT\"]]\n",
    "\n",
    "        print(round(res, 2), f\"to pay: {round(res, 2) * case['pay_percent']}\")\n",
    "\n",
    "\n",
    "\n"
   ]
  },
  {
   "cell_type": "code",
   "execution_count": 30,
   "metadata": {},
   "outputs": [
    {
     "name": "stdout",
     "output_type": "stream",
     "text": [
      "3450\n"
     ]
    }
   ],
   "source": [
    "import json\n",
    "import pandas as pd\n",
    "\n",
    "\n",
    "with open(\"config.json\", \"r\", encoding=\"utf-8\") as f:\n",
    "    c = json.loads(f.read())\n",
    "\n",
    "df_orig = pd.read_excel(c[\"filename\"], header=c[\"header_index\"])\n",
    "col_len = len(df_orig.columns)\n",
    "\n",
    "if  col_len > c[\"col_len\"]:\n",
    "    df_orig = df_orig.iloc[:, :c[\"col_len\"]-col_len]\n",
    "\n",
    "print(len(df_orig))\n",
    "\n",
    "\n",
    "\n",
    "\n",
    "\n",
    "\n"
   ]
  },
  {
   "cell_type": "code",
   "execution_count": 32,
   "metadata": {},
   "outputs": [
    {
     "name": "stdout",
     "output_type": "stream",
     "text": [
      "      Name  Age           City     _merge\n",
      "0    Alice   25       New York  left_only\n",
      "1      Bob   30  San Francisco  left_only\n",
      "2  Charlie   35    Los Angeles       both\n",
      "3    David   40        Chicago       both\n",
      "DataFrame with Age <= 30:\n",
      "    Name  Age           City\n",
      "0  Alice   25       New York\n",
      "1    Bob   30  San Francisco\n"
     ]
    }
   ],
   "source": [
    "import pandas as pd\n",
    "\n",
    "# Create a sample DataFrame\n",
    "data = {'Name': ['Alice', 'Bob', 'Charlie', 'David'],\n",
    "        'Age': [25, 30, 35, 40],\n",
    "        'City': ['New York', 'San Francisco', 'Los Angeles', 'Chicago']}\n",
    "\n",
    "df = pd.DataFrame(data)\n",
    "\n",
    "# Define a filter condition\n",
    "filter_condition = df['Age'] > 30\n",
    "\n",
    "# Split the DataFrame based on the filter condition\n",
    "df_greater_than_30 = df[filter_condition]\n",
    "\n",
    "print(pd.merge(df, df_greater_than_30, how='left', indicator=True))\n",
    "\n",
    "# Create df_less_than_or_equal_30 by subtracting df_greater_than_30 from df\n",
    "df_less_than_or_equal_30 = pd.merge(df, df_greater_than_30, how='left', indicator=True).query('_merge == \"left_only\"').drop('_merge', axis=1)\n",
    "\n",
    "# Display the resulting DataFrame\n",
    "print(\"DataFrame with Age <= 30:\")\n",
    "print(df_less_than_or_equal_30)\n"
   ]
  }
 ],
 "metadata": {
  "kernelspec": {
   "display_name": "env",
   "language": "python",
   "name": "python3"
  },
  "language_info": {
   "codemirror_mode": {
    "name": "ipython",
    "version": 3
   },
   "file_extension": ".py",
   "mimetype": "text/x-python",
   "name": "python",
   "nbconvert_exporter": "python",
   "pygments_lexer": "ipython3",
   "version": "3.11.4"
  }
 },
 "nbformat": 4,
 "nbformat_minor": 2
}
